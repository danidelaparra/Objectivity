{
 "cells": [
  {
   "cell_type": "markdown",
   "metadata": {},
   "source": [
    "# Measuring Objectivity using an LSTM Neural Network\n",
    "\n",
    "_Daniela De la Parra_ <br>\n",
    "_Rice University_ <br>\n",
    "***"
   ]
  },
  {
   "cell_type": "markdown",
   "metadata": {},
   "source": [
    "### Goal\n",
    "\n",
    "Develop a machine learning algorithm that classifies sentences as objective or subjective based on the narrative structure of the sentence itself and its linguistic attributes. \n",
    "\n",
    "\n",
    " <br> **_Supervised model:_**\n",
    "- Learns patterns from labeled sentences (manually identified examples of objective and subjective sentences) and generalizes to new data that has not been seen before\n",
    "- Predict the objectivity of sentences that were not used during the training process \n",
    "- After completion of the training phase, use the optimized model to predict the probability of each sentence being objective in the unlabeled sample"
   ]
  },
  {
   "cell_type": "markdown",
   "metadata": {},
   "source": [
    "<img src=\"img/objective_subjective.png\" style=\"width:900px\" align=\"left\"/>"
   ]
  },
  {
   "cell_type": "markdown",
   "metadata": {},
   "source": [
    "### Manually Classify Sentences\n",
    "\n",
    "I randomly select 3,000 sentences from the MD&A section of 10-K filings from my sample and manually classify each sentence into an “Objective” or a “Subjective” class, according to whether the information provided is based on facts or on opinions that may be subject to interpretation. \n",
    "\n",
    "My classification task results in 1,896 sentences being classified as “Objective” and 1,104 as “Subjective.”"
   ]
  },
  {
   "cell_type": "markdown",
   "metadata": {},
   "source": [
    "| Label | Sentence |\n",
    "| --- | :-|\n",
    "| OBJ | \"Our products are distributed in the United States and in over twenty (20) other countries.\"\n",
    "| OBJ | \"Chesapeake is the operator for the development of our oil and gas properties.\" |\n",
    "| OBJ|\"During the year ended December 31, 2004, we completed seven acquisitions.\"| \n",
    "| OBJ|\"The purchase price was \\\\$1.8 million, \\\\$360,000 paid in cash and a \\\\$1.4 million promissory note that bears interest at 6.6\\% per annum from the purchase date through the fourth anniversary date.\"| \n",
    "| SUBJ | \"NS2 has completed a variety of toxicity studies in animals and appears generally safe and well-tolerated.\" |\n",
    "| SUBJ | \"Our losses, while greater than projected, were still modest considering the magnitude of the economic storm.\" |\n",
    "| SUBJ | \"We believe that our dedication to quality and durability and focus on our clients’ needs has created a high level of brand loyalty and has solidified substantial brand equity.\" |\n",
    "| SUBJ | \"The current economic and interest rate environments continue to challenge our organic growth plans.\" |"
   ]
  },
  {
   "cell_type": "markdown",
   "metadata": {},
   "source": [
    "---\n",
    "# Background\n",
    "\n",
    "### Anatomy of a neural network"
   ]
  },
  {
   "cell_type": "markdown",
   "metadata": {},
   "source": [
    "<img src=\"img/NN.png\" style=\"width:600px\" align=\"left\"/>"
   ]
  },
  {
   "cell_type": "markdown",
   "metadata": {},
   "source": [
    "### Simplest Neural Network: Perceptron"
   ]
  },
  {
   "cell_type": "markdown",
   "metadata": {},
   "source": [
    "<font size=\"4\">\n",
    "$$\n",
    "\\begin{aligned}\n",
    "    \\hat{y} =& ~g(w_1 x_1 + w_2 x_2 + \\dots + w_n x_n + b)  \\\\\\\\\n",
    "    \\hat{y} =& ~g({W}^{\\top} \\mathrm{x} + b)  \\\\\\\\\n",
    "    & ~g(x) =\n",
    "        \\begin{cases}\n",
    "            0 ~~~~\\mathrm{if} ~~x < 0, \\\\\n",
    "            1 ~~~~\\mathrm{otherwise}\n",
    "        \\end{cases}\n",
    "\\end{aligned}\n",
    "$$\n",
    "</font>"
   ]
  },
  {
   "cell_type": "markdown",
   "metadata": {},
   "source": [
    "<img src=\"img/perceptron.png\" style=\"width:580px\" align=\"left\"/>"
   ]
  },
  {
   "cell_type": "markdown",
   "metadata": {},
   "source": [
    "### Combining models: Increase complexity"
   ]
  },
  {
   "cell_type": "markdown",
   "metadata": {},
   "source": [
    "<img src=\"img/multi_layer.png\" style=\"width:600px\" align=\"left\"/>"
   ]
  },
  {
   "cell_type": "markdown",
   "metadata": {},
   "source": [
    "### Multi-layer Perceptron"
   ]
  },
  {
   "cell_type": "markdown",
   "metadata": {},
   "source": [
    "<img src=\"img/two_layer.png\" style=\"width:700px\" align=\"left\"/>"
   ]
  },
  {
   "cell_type": "markdown",
   "metadata": {},
   "source": [
    "---\n",
    "# Back to Objectivity"
   ]
  },
  {
   "cell_type": "markdown",
   "metadata": {},
   "source": [
    "<br>\n",
    "<img src=\"img/objective_subjective.png\" style=\"width:900px\" align=\"left\"/>\n",
    "<br>"
   ]
  },
  {
   "cell_type": "markdown",
   "metadata": {},
   "source": [
    "# Model"
   ]
  },
  {
   "cell_type": "markdown",
   "metadata": {},
   "source": [
    "### Recurrent Neural Network"
   ]
  },
  {
   "cell_type": "markdown",
   "metadata": {},
   "source": [
    "Given the widespread usage of recurrent neural networks (RNNs) in text analysis\n",
    "applications and their capability of learning dependencies among sequences of words, I use this type of neural network for my classification task."
   ]
  },
  {
   "cell_type": "markdown",
   "metadata": {},
   "source": [
    "<img src=\"img/RNN.png\" style=\"width:700px\" align=\"left\"/>"
   ]
  },
  {
   "cell_type": "markdown",
   "metadata": {},
   "source": [
    "### Word Embeddings"
   ]
  },
  {
   "cell_type": "code",
   "execution_count": 1,
   "metadata": {},
   "outputs": [],
   "source": [
    "# My data (example):\n",
    "\n",
    "data = [\n",
    "    (\"Our oil production was 9% lower in 2008 than 2007.\", 1),\n",
    "    (\"The impact of inflation on the Company's operations has not been significant to date.\", 0),\n",
    "    (\"We believe that we can continue to operate efficiently in challenging economic and industry environments.\", 0),\n",
    "    (\"The number of commercial sites in the U.S. is now approximately 400.\", 1)\n",
    "]"
   ]
  },
  {
   "cell_type": "markdown",
   "metadata": {},
   "source": [
    "Words are discrete units that are not naturally associated to numeric values! \n",
    "In computational linguitics, we map words to vectors using word embeddings"
   ]
  },
  {
   "cell_type": "markdown",
   "metadata": {},
   "source": [
    "<img src=\"img/embeddings.png\" style=\"width:700px\" align=\"left\"/>"
   ]
  },
  {
   "cell_type": "markdown",
   "metadata": {},
   "source": [
    "Analogies:\n",
    "\n",
    "<font size=\"4\">\n",
    "$$\n",
    "    \\mathrm{woman} + \\mathrm{queen} = \\mathrm{man} + x \\\\\n",
    "$$\n",
    "</font>    \n",
    "Solve for $x$:\n",
    "<font size=\"4\">\n",
    "$$\n",
    "\\begin{aligned}\n",
    "    x &= \\mathrm{woman} + \\mathrm{queen} - \\mathrm{man} \\\\\n",
    "    x &= \\mathrm{king}\n",
    "\\end{aligned}\n",
    "$$\n",
    "</font>"
   ]
  },
  {
   "cell_type": "markdown",
   "metadata": {},
   "source": [
    "The analogy feature also works for other types, such as adjectives, grammatical tenses, etc. \n",
    "\n",
    "<!-- \n",
    "There is a lot more that we can do with those vectors too:\n",
    "\n",
    "<img src=\"img/embeddings2.jpg\" style=\"width:700px\"/> \n",
    "-->"
   ]
  },
  {
   "cell_type": "markdown",
   "metadata": {},
   "source": [
    "### Vocabulary"
   ]
  },
  {
   "cell_type": "code",
   "execution_count": 2,
   "metadata": {},
   "outputs": [
    {
     "name": "stdout",
     "output_type": "stream",
     "text": [
      "Vocabulary size: 4,957\n"
     ]
    }
   ],
   "source": [
    "import json\n",
    "\n",
    "def load_vocab(path):\n",
    "    with open(path, 'r') as fp:\n",
    "        return json.load(fp)\n",
    "\n",
    "vocab = load_vocab('train_model/word_to_index.json')\n",
    "\n",
    "print(f\"Vocabulary size: {len(vocab):,}\")"
   ]
  },
  {
   "cell_type": "markdown",
   "metadata": {},
   "source": [
    "### Embedding Table"
   ]
  },
  {
   "cell_type": "markdown",
   "metadata": {},
   "source": [
    "An embedding matrix $E$ contains our vocabulary $\\mathcal{V}$, representing each word as a row vector of $d$ dimensions (i.e., $E \\in \\mathbb{R}^{|\\mathcal{V}|~\\times~d}$). <br>\n",
    "(I use the vector embeddings _GloVe_ created by Pennington, Socher and Manning (2014).)"
   ]
  },
  {
   "cell_type": "code",
   "execution_count": 3,
   "metadata": {},
   "outputs": [
    {
     "data": {
      "text/plain": [
       "Embedding(4957, 50)"
      ]
     },
     "execution_count": 3,
     "metadata": {},
     "output_type": "execute_result"
    }
   ],
   "source": [
    "import torch.nn as nn\n",
    "\n",
    "embedding = nn.Embedding(len(vocab), 50) # d = 50\n",
    "embedding"
   ]
  },
  {
   "cell_type": "markdown",
   "metadata": {},
   "source": [
    "Encoding words into indexes that point to an entry in the embedding table:"
   ]
  },
  {
   "cell_type": "code",
   "execution_count": 4,
   "metadata": {},
   "outputs": [
    {
     "name": "stdout",
     "output_type": "stream",
     "text": [
      "i       \t  43\t[ 0.312  -0.339   0.541  -1.055  -0.973 ]\n",
      "do      \t  85\t[-0.306   0.559   0.144   1.292   0.682 ]\n",
      "research\t 416\t[ 0.789  -0.671  -0.719   0.806  -0.686 ]\n",
      "in      \t  11\t[-1.819  -0.725  -1.024   0.310   1.563 ]\n",
      "accounting\t1816\t[ 0.001  -0.360  -0.305   1.437   0.298 ]\n"
     ]
    }
   ],
   "source": [
    "import numpy as np; np.set_printoptions(formatter={'float_kind':'{:>6.3f} '.format})\n",
    "\n",
    "for word in ['i', 'do', 'research', 'in', 'accounting']:\n",
    "    index = vocab[word]\n",
    "    vector = embedding.weight[index, :5] # a few dimensions\n",
    "    \n",
    "    print(f\"{word:<8}\\t{index:>4}\\t{vector.data.numpy()}\")"
   ]
  },
  {
   "cell_type": "markdown",
   "metadata": {},
   "source": [
    "### Split Corpus into Train (70%), Validation (15%), Test (15%)"
   ]
  },
  {
   "cell_type": "markdown",
   "metadata": {},
   "source": [
    "I split my dataset into the train (70%), validation (15%), and test (15%) samples. The validation sample is used to provide an unbiased evaluation of the trained model and with it, fine-tune hyperparameters."
   ]
  },
  {
   "cell_type": "code",
   "execution_count": 5,
   "metadata": {},
   "outputs": [],
   "source": [
    "from utils import ObjSubDataset, embedded_data\n",
    "from nltk import word_tokenize\n",
    "from sklearn.model_selection import train_test_split\n",
    "\n",
    "def split_corpus(data):\n",
    "    X = []\n",
    "    Y = []\n",
    "\n",
    "    for row in data:\n",
    "        X.append(data[0])\n",
    "        Y.append(data[1])\n",
    "\n",
    "    X_trn, X_tmp, Y_trn, Y_tmp = train_test_split(X, Y, test_size=0.3, random_state=1)\n",
    "    X_dev, X_tst, Y_dev, Y_tst = train_test_split(X_tmp, Y_tmp, test_size=0.5, random_state=1)\n",
    "\n",
    "    return {\n",
    "        'train_X': X_trn, 'train_Y': Y_trn,\n",
    "        'dev_X': X_dev, 'dev_Y': Y_dev,\n",
    "        'test_X': X_tst, 'test_Y': Y_tst,\n",
    "        }\n",
    "\n",
    "sent_dataset = split_corpus(embedded_data)\n",
    "\n",
    "datasets = {\n",
    "    'train': ObjSubDataset(sentences=sent_dataset['train_X'], labels=sent_dataset['train_Y']),\n",
    "    'dev':   ObjSubDataset(sentences=sent_dataset['dev_X'],   labels=sent_dataset['dev_Y']),\n",
    "    'test':  ObjSubDataset(sentences=sent_dataset['test_X'],  labels=sent_dataset['test_Y'])\n",
    "}"
   ]
  },
  {
   "cell_type": "markdown",
   "metadata": {},
   "source": [
    "### Implementing the model: Bidirectional Long Short-Term Memory (LSTM)"
   ]
  },
  {
   "cell_type": "markdown",
   "metadata": {},
   "source": [
    "I use a particular type of RNN called Long Short-Term Memory (LSTM) network, which specializes in ‘remembering’ relevant context from long-term sequences and at the same time ‘forgetting’ irrelevant short-term information (Hochreiter and Schmidhuber 1997)."
   ]
  },
  {
   "cell_type": "code",
   "execution_count": 6,
   "metadata": {},
   "outputs": [],
   "source": [
    "import torch\n",
    "\n",
    "class LSTMLayer(nn.Module):\n",
    "    def __init__(self, input_dim, lstm_dim):\n",
    "        super(LSTMLayer, self).__init__()\n",
    "\n",
    "        self.lstm_dim = lstm_dim\n",
    "        self.lstm = nn.LSTM(input_dim, lstm_dim // 2, bidirectional=True, batch_first=True)\n",
    "\n",
    "    def forward(self, vectors, mask):\n",
    "        lstm_outs, _ = self.lstm(vectors)\n",
    "        return lstm_outs"
   ]
  },
  {
   "cell_type": "code",
   "execution_count": 7,
   "metadata": {},
   "outputs": [
    {
     "data": {
      "text/plain": [
       "LSTMLayer(\n",
       "  (lstm): LSTM(50, 64, batch_first=True, bidirectional=True)\n",
       ")"
      ]
     },
     "execution_count": 7,
     "metadata": {},
     "output_type": "execute_result"
    }
   ],
   "source": [
    "lstm = LSTMLayer(input_dim=50, lstm_dim=128)\n",
    "lstm"
   ]
  },
  {
   "cell_type": "markdown",
   "metadata": {},
   "source": [
    "<img src=\"img/bidirectional_lstm.png\" style=\"width:600px\" align=\"left\"/>"
   ]
  },
  {
   "cell_type": "markdown",
   "metadata": {},
   "source": [
    "### Attention Mechanism\n",
    "\n",
    "The attention mechanism was introduced in neural machine translation (NMT) by Bahdanau et al. (2015). \n",
    "The idea is to automatically focus on specific parts of the text to emphasize the context for the task at hand.\n",
    "\n",
    "<br>\n",
    "<font size=\"4\">\n",
    "$$\n",
    "\\begin{align} \n",
    "\tu_i =&~ v^\\top ~\\mathrm{tanh}(W_h h_i + b_i) \\label{eq:att-raw-scores} \\\\\\\\\n",
    "\t\\alpha_i =&~ \\frac{\\mathrm{exp}(u_i)}{\\sum^{N}_{j=1}\\mathrm{exp}(u_j)}, ~~~\\text{s.t.}~\\sum_{i=1} \\alpha_i = 1 \\label{eq:att-alpha} \\\\\\\\\n",
    "\tz =& \\sum_{i=1}{\\alpha_i h_i}\n",
    "\\end{align}\n",
    "$$\n",
    "<font/>"
   ]
  },
  {
   "cell_type": "code",
   "execution_count": 8,
   "metadata": {
    "code_folding": []
   },
   "outputs": [],
   "source": [
    "class AttentionLayer(nn.Module):\n",
    "    def __init__(self, input_dim):\n",
    "        super(AttentionLayer, self).__init__()\n",
    "\n",
    "        self.W = nn.Linear(input_dim, input_dim)\n",
    "        self.v = nn.Linear(input_dim, 1)\n",
    "\n",
    "    def forward(self, inputs, mask):\n",
    "        # Raw scores\n",
    "        u = self.v(torch.tanh(self.W(inputs)))\n",
    "\n",
    "        # Masked softmax\n",
    "        u = u.exp()                              \n",
    "        u = mask.unsqueeze(2).float() * u       \n",
    "        sums = torch.sum(u, dim=1, keepdim=True)  \n",
    "        a = u / sums                            \n",
    "\n",
    "        # Weighted sum of the input vectors\n",
    "        z = torch.sum(inputs * a, dim=1)\n",
    "\n",
    "        return z, a.view(inputs.size(0), inputs.size(1))"
   ]
  },
  {
   "cell_type": "code",
   "execution_count": 9,
   "metadata": {},
   "outputs": [
    {
     "data": {
      "text/plain": [
       "AttentionLayer(\n",
       "  (W): Linear(in_features=128, out_features=128, bias=True)\n",
       "  (v): Linear(in_features=128, out_features=1, bias=True)\n",
       ")"
      ]
     },
     "execution_count": 9,
     "metadata": {},
     "output_type": "execute_result"
    }
   ],
   "source": [
    "attention = AttentionLayer(input_dim=128) \n",
    "attention"
   ]
  },
  {
   "cell_type": "markdown",
   "metadata": {},
   "source": [
    "### Putting the model together"
   ]
  },
  {
   "cell_type": "code",
   "execution_count": 10,
   "metadata": {},
   "outputs": [],
   "source": [
    "import torch.nn.functional as F\n",
    "\n",
    "class ObjSubModel(nn.Module):\n",
    "    def __init__(self, n_classes):\n",
    "        super(ObjSubModel, self).__init__()\n",
    "\n",
    "        self.n_classes = n_classes\n",
    "\n",
    "        self.embeddings = embedding\n",
    "        self.lstm = lstm\n",
    "        self.attn = attention\n",
    "        self.classifier = nn.Linear(lstm.lstm_dim, n_classes)\n",
    "\n",
    "        self.dropout = nn.Dropout(0.2)\n",
    "\n",
    "    def forward(self, encodings, mask, y=None):\n",
    "        # Step 1: embed the encodings\n",
    "        embedded = self.embeddings(encodings)\n",
    "        \n",
    "        # Step 2: process the embeddings with LSTM\n",
    "        lstm_outs = self.lstm(embedded, mask)\n",
    "        lstm_outs = self.dropout(lstm_outs)\n",
    "        \n",
    "        # Step 3: reduce the sequence into a single vector using attention \n",
    "        attn_out, attn_weights = self.attn(lstm_outs, mask)\n",
    "        attn_out = self.dropout(attn_out)\n",
    "        \n",
    "        # Step 4: map the sentence vector to the binary classification space\n",
    "        scores = self.classifier(attn_out)\n",
    "        probs = torch.softmax(scores, dim=1)\n",
    "        \n",
    "        loss = 0\n",
    "        if y is not None:\n",
    "            loss = F.cross_entropy(scores, y, reduction='mean')\n",
    "            loss += l2reg(self.parameters()) * 1e-2 # L2 regularization with lambda = 1e-2\n",
    "\n",
    "        return probs, loss, attn_weights"
   ]
  },
  {
   "cell_type": "code",
   "execution_count": 11,
   "metadata": {},
   "outputs": [
    {
     "data": {
      "text/plain": [
       "ObjSubModel(\n",
       "  (embeddings): Embedding(4957, 50)\n",
       "  (lstm): LSTMLayer(\n",
       "    (lstm): LSTM(50, 64, batch_first=True, bidirectional=True)\n",
       "  )\n",
       "  (attn): AttentionLayer(\n",
       "    (W): Linear(in_features=128, out_features=128, bias=True)\n",
       "    (v): Linear(in_features=128, out_features=1, bias=True)\n",
       "  )\n",
       "  (classifier): Linear(in_features=128, out_features=2, bias=True)\n",
       "  (dropout): Dropout(p=0.2, inplace=False)\n",
       ")"
      ]
     },
     "execution_count": 11,
     "metadata": {},
     "output_type": "execute_result"
    }
   ],
   "source": [
    "model = ObjSubModel(n_classes=2)\n",
    "model"
   ]
  },
  {
   "cell_type": "markdown",
   "metadata": {},
   "source": [
    "### Training Results"
   ]
  },
  {
   "cell_type": "markdown",
   "metadata": {},
   "source": [
    "<img src=\"img/train_dev_metrics.png\" style=\"width:700px\" align=\"left\"/>"
   ]
  },
  {
   "cell_type": "markdown",
   "metadata": {},
   "source": [
    "The ROC metric shows that the model has a good fit, with an outstanding (excellent)\n",
    "discrimination ability in the train (validation) sample (Kim and Skinner 2012). An evaluation of the trained model on the test sample achieved an accuracy of 0.87 on the classification of Objective sentences"
   ]
  },
  {
   "cell_type": "markdown",
   "metadata": {},
   "source": [
    "<img src=\"img/test_metrics.png\" style=\"width:700px\" align=\"left\"/>"
   ]
  },
  {
   "cell_type": "markdown",
   "metadata": {},
   "source": [
    "### Predicting"
   ]
  },
  {
   "cell_type": "code",
   "execution_count": 12,
   "metadata": {},
   "outputs": [],
   "source": [
    "import utils\n",
    "from nltk import word_tokenize\n",
    "\n",
    "utils.load_model('train_model/lstm_attn_model.pt', model)"
   ]
  },
  {
   "cell_type": "code",
   "execution_count": 13,
   "metadata": {
    "code_folding": []
   },
   "outputs": [
    {
     "data": {
      "text/plain": [
       "['objective', 'subjective', 'objective', 'subjective']"
      ]
     },
     "execution_count": 13,
     "metadata": {},
     "output_type": "execute_result"
    }
   ],
   "source": [
    "sentences = [\n",
    "    \"World operates both passenger and cargo missions for the AMC international program while North American  \" \\\n",
    "        \"operates only passenger missions.\",\n",
    "    \n",
    "    \"While variation in the size of program award makes it difficult to directly correlate this data to our \" \\\n",
    "        \"sales trends, we believe it does provide useful information regarding our customer loyalty and new \" \\\n",
    "        \"business growth.\",\n",
    "    \n",
    "    \"During 2006, we fully utilized our net operating loss carryforwards for federal income tax purposes.\",\n",
    "    \n",
    "    \"We believe our principal sources of liquidity from available funds on hand, cash generated from operations, \" \\\n",
    "        \"and the availability of borrowing under our credit facilities will be sufficient to meet our working \" \\\n",
    "        \"capital and other operating needs for at least the next 12 months.\",\n",
    "]\n",
    "\n",
    "sentences_tok = [word_tokenize(s) for s in sentences]\n",
    "labels, probs, attns = utils.predict(sentences_tok, vocab, model)\n",
    "labels"
   ]
  },
  {
   "cell_type": "code",
   "execution_count": 14,
   "metadata": {},
   "outputs": [
    {
     "name": "stdout",
     "output_type": "stream",
     "text": [
      "\t\tProbabilities\n",
      "\n",
      "Sentence # \tSubjective \tObjective\n",
      "\t1\t0.00355\t\t0.99645\n",
      "\t2\t0.99314\t\t0.00686\n",
      "\t3\t0.44686\t\t0.55314\n",
      "\t4\t0.99965\t\t0.00035\n"
     ]
    }
   ],
   "source": [
    "print(\"\\t\\tProbabilities\\n\")\n",
    "print(\"Sentence # \\tSubjective \\tObjective\")\n",
    "for i, p in enumerate(probs):\n",
    "    print(f\"\\t{i+1}\\t{round(p[0], 5)}\\t\\t{round(p[1], 5)}\")"
   ]
  },
  {
   "cell_type": "markdown",
   "metadata": {},
   "source": [
    "### Visualization"
   ]
  },
  {
   "cell_type": "code",
   "execution_count": 15,
   "metadata": {
    "scrolled": false
   },
   "outputs": [
    {
     "name": "stdout",
     "output_type": "stream",
     "text": [
      "Sentence: \n",
      "World operates both passenger and cargo missions for the AMC international program while North American  operates only passenger missions.\n"
     ]
    },
    {
     "data": {
      "image/png": "[encoded data removed]",
      "text/plain": [
       "<Figure size 720x504 with 1 Axes>"
      ]
     },
     "metadata": {
      "needs_background": "light"
     },
     "output_type": "display_data"
    },
    {
     "name": "stdout",
     "output_type": "stream",
     "text": [
      "Sentence: \n",
      "While variation in the size of program award makes it difficult to directly correlate this data to our sales trends, we believe it does provide useful information regarding our customer loyalty and new business growth.\n"
     ]
    },
    {
     "data": {
      "image/png": "[encoded data removed]",
      "text/plain": [
       "<Figure size 720x936 with 1 Axes>"
      ]
     },
     "metadata": {
      "needs_background": "light"
     },
     "output_type": "display_data"
    },
    {
     "name": "stdout",
     "output_type": "stream",
     "text": [
      "Sentence: \n",
      "During 2006, we fully utilized our net operating loss carryforwards for federal income tax purposes.\n"
     ]
    },
    {
     "data": {
      "image/png": "[encoded data removed]",
      "text/plain": [
       "<Figure size 720x432 with 1 Axes>"
      ]
     },
     "metadata": {
      "needs_background": "light"
     },
     "output_type": "display_data"
    },
    {
     "name": "stdout",
     "output_type": "stream",
     "text": [
      "Sentence: \n",
      "We believe our principal sources of liquidity from available funds on hand, cash generated from operations, and the availability of borrowing under our credit facilities will be sufficient to meet our working capital and other operating needs for at least the next 12 months.\n"
     ]
    },
    {
     "data": {
      "image/png": "[encoded data removed]",
      "text/plain": [
       "<Figure size 720x1224 with 1 Axes>"
      ]
     },
     "metadata": {
      "needs_background": "light"
     },
     "output_type": "display_data"
    }
   ],
   "source": [
    "for sent, words, label, attn in [d for d in zip(sentences, sentences_tok, labels, attns)]:\n",
    "    print(f\"Sentence: \\n{sent}\")\n",
    "    utils.plot_attention_bars(words, attn, label, horbars=True, word_axis=2.8, value_axis=10)"
   ]
  },
  {
   "cell_type": "markdown",
   "metadata": {},
   "source": [
    "### Conclusion"
   ]
  },
  {
   "cell_type": "markdown",
   "metadata": {},
   "source": [
    "Neural networks are a remarkably powerful and efficient approach to analyzing textual data in a complex, high-dimensional space!\n",
    "\n",
    "As opposed to a bag-of-words approach—which consists of searching for matches of specific words from an arbitrarily-constructed wordlist—, the complexity of the layers composing a neural network allows it to take into account the order of words, the context of each word, the grammatical structure of sentences, and the meaning of ideas derived from ordered words."
   ]
  },
  {
   "cell_type": "markdown",
   "metadata": {},
   "source": [
    "### Sources"
   ]
  },
  {
   "cell_type": "markdown",
   "metadata": {},
   "source": [
    "1. Fang, L., Luo, Y., Feng, K., Zhao, K., & Hu, A. (2019, May). Knowledge-enhanced ensemble learning for word embeddings. In The World Wide Web Conference (pp. 427-437). DOI:https://doi.org/10.1145/3308558.3313425\n",
    "\n",
    "\n",
    "2. Chollet F. 2017. Deep learning with Python. Manning Publications Company.\n",
    "\n",
    "\n",
    "3. http://colah.github.io/posts/2015-08-Understanding-LSTMs/\n",
    "\n",
    "\n",
    "4. Hochreiter S, Schmidhuber J. 1997. Long Short-Term Memory. Neural Computation 9: 1735–1780. URL https://doi.org/10.1162/neco.1997.9.8.1735\n",
    "\n",
    "\n",
    "5. Pennington J, Socher R, Manning CD. 2014. GloVe: Global Vectors for Word Representation. Empirical Methods in Natural Language Processing: 1532–1543. URL http://www.aclweb.org/anthology/D14-1162\n",
    "\n",
    "\n",
    "6. Mikolov T, Yih Wt, Zweig G. 2013. Linguistic Regularities in Continuous Space Word Representations. Proceedings of NAACL-HLT: 746–751.\n",
    "\n",
    "\n",
    "7. Bahdanau D, Cho K, Bengio Y. 2014. Neural machine translation by jointly learning to align and translate. arXiv preprint arXiv:1409.0473.\n",
    "\n",
    "\n",
    "8. Zhang Y, Zhong V, Chen D, Angeli G, Manning CD. 2017. Position-aware Attention and Supervised Data Improve Slot Filling. EMNLP 2017 - Conference on Empirical Methods in Natural Language Processing, Proceedings : 35–45.\n",
    "\n",
    "\n",
    "9. http://colah.github.io/posts/2015-09-NN-Types-FP/\n",
    "\n",
    "\n",
    "10. Goodfellow I, Bengio Y, Courville A. 2016. Deep Learning. MIT Press. URL http://www.deeplearningbook.org\n",
    "\n",
    "\n",
    "11. Alpaydin E. 2014. Introduction to Machine Learning. MIT Press. ISBN 978-0–262-028189.\n",
    "\n",
    "\n",
    "12. Kim I, Skinner DJ. 2012. Measuring securities litigation risk. Journal of Accounting and Economics 53: 290–310. ISSN 01654101. URL http://dx.doi.org/10.1016/j.jacceco.2011.09.005"
   ]
  },
  {
   "cell_type": "code",
   "execution_count": 16,
   "metadata": {},
   "outputs": [
    {
     "data": {
      "text/html": [
       "<style>.container { width:95% !important; }</style>"
      ],
      "text/plain": [
       "<IPython.core.display.HTML object>"
      ]
     },
     "metadata": {},
     "output_type": "display_data"
    }
   ],
   "source": [
    "from IPython.core.display import display, HTML\n",
    "display(HTML(\"<style>.container { width:95% !important; }</style>\"))"
   ]
  }
 ],
 "metadata": {
  "kernelspec": {
   "display_name": "Python 3",
   "language": "python",
   "name": "python3"
  },
  "language_info": {
   "codemirror_mode": {
    "name": "ipython",
    "version": 3
   },
   "file_extension": ".py",
   "mimetype": "text/x-python",
   "name": "python",
   "nbconvert_exporter": "python",
   "pygments_lexer": "ipython3",
   "version": "3.7.4"
  }
 },
 "nbformat": 4,
 "nbformat_minor": 2
}
